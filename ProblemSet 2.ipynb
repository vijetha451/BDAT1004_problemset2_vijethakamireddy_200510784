{
 "cells": [
  {
   "cell_type": "markdown",
   "id": "b9095f19",
   "metadata": {},
   "source": [
    "QUESTION 1"
   ]
  },
  {
   "cell_type": "code",
   "execution_count": 17,
   "id": "a6c38f3d",
   "metadata": {},
   "outputs": [
    {
     "data": {
      "text/plain": [
       "6"
      ]
     },
     "execution_count": 17,
     "metadata": {},
     "output_type": "execute_result"
    }
   ],
   "source": [
    "a=0\n",
    "def b():\n",
    "    global a\n",
    "    a=c(a)\n",
    "\n",
    "def c(a):\n",
    "    return a + 2\n",
    "\n",
    "b()              # after this statement a values changes to 2\n",
    "b()              #after this,a value further increments by 2 and becomes 4\n",
    "b()              #after this,a values increase by 2 and becomes 6\n",
    "a                #a value gets printed which is 6\n"
   ]
  },
  {
   "cell_type": "markdown",
   "id": "f80da212",
   "metadata": {},
   "source": [
    "QUESTION 2"
   ]
  },
  {
   "cell_type": "code",
   "execution_count": 35,
   "id": "9e57def5",
   "metadata": {},
   "outputs": [
    {
     "name": "stdout",
     "output_type": "stream",
     "text": [
      "123\n"
     ]
    }
   ],
   "source": [
    "def file_length(file_name):\n",
    "    try:\n",
    "        file = open(file_name)\n",
    "        contents = file.read()\n",
    "        file.close()\n",
    "        print(len(contents))\n",
    "    except:\n",
    "        print(\"File\",file_name,\"not found\")       #this line throws an exception if interpreter is unable to find file\n",
    "        \n",
    "    \n",
    "    \n",
    "file_length('midterm.txt')"
   ]
  },
  {
   "cell_type": "markdown",
   "id": "8f1a8716",
   "metadata": {},
   "source": [
    "QUESTION 3"
   ]
  },
  {
   "cell_type": "code",
   "execution_count": 35,
   "id": "375bf734",
   "metadata": {},
   "outputs": [
    {
     "name": "stdout",
     "output_type": "stream",
     "text": [
      "['doll', 'firetruck', 'kitten']\n",
      "I am a Kangaroo located at coordinates (0, 0)\n",
      " \n",
      "['doll', 'firetruck', 'kitten']\n",
      "I am a Kangaroo located at coordinates (3, 0)\n",
      " \n"
     ]
    }
   ],
   "source": [
    "class Marsupial:\n",
    "    def __init__(self):\n",
    "        self.pouch = []    \n",
    "    def put_in_pouch(self, val):        \n",
    "        self.pouch.append(val)    \n",
    "    def pouch_contents(self):        \n",
    "        print(self.pouch)\n",
    "        \n",
    "m = Marsupial()  \n",
    "m.put_in_pouch(\"doll\")    \n",
    "m.put_in_pouch(\"firetruck\")    \n",
    "m.put_in_pouch(\"kitten\")    \n",
    "m.pouch_contents()\n",
    "\n",
    "    \n",
    "class Kangaroo(Marsupial):\n",
    "    def __init__(self, x, y):        \n",
    "        super().__init__()        \n",
    "        self.coordx = x        \n",
    "        self.coordy = y    \n",
    "    def jump(self, dx, dy):        \n",
    "        self.coordx = self.coordx + dx        \n",
    "        self.coordy = self.coordy + dy    \n",
    "    def __str__(self):       \n",
    "        print(\"I am a Kangaroo located at coordinates (%d, %d)\" %(self.coordx, self.coordy))\n",
    "        return \" \"\n",
    "k = Kangaroo(0,0)\n",
    "print(k)\n",
    "k.put_in_pouch(\"doll\")\n",
    "k.put_in_pouch(\"firetruck\")\n",
    "k.put_in_pouch(\"kitten\")\n",
    "k.pouch_contents()\n",
    "k.jump(1, 0)\n",
    "k.jump(1, 0)\n",
    "k.jump(1, 0)\n",
    "print(k)"
   ]
  },
  {
   "cell_type": "markdown",
   "id": "000d5d84",
   "metadata": {},
   "source": [
    "QUESTION 4"
   ]
  },
  {
   "cell_type": "code",
   "execution_count": 76,
   "id": "0acac77c",
   "metadata": {},
   "outputs": [
    {
     "name": "stdout",
     "output_type": "stream",
     "text": [
      "10\n",
      "5\n",
      "16\n",
      "8\n",
      "4\n",
      "2\n",
      "1\n"
     ]
    }
   ],
   "source": [
    "def collatz(x):\n",
    "    lst=[] #empty list to store sequence\n",
    "    \n",
    "    while (x!=1) :\n",
    "        lst.append(x) \n",
    "       \n",
    "        if (x%2==0) :    #if n is even, just divide with 2\n",
    "            x=x//2\n",
    "        else:\n",
    "            x=(3*x)+1    #if n is odd,multiply by 3 and add 1\n",
    "    lst.append(1)  #print 1 in the end   \n",
    "    length=len(lst)\n",
    "\n",
    "   \n",
    "    for i in range(0,length):\n",
    "        print(lst[i])\n",
    "\n",
    "collatz(10)"
   ]
  },
  {
   "cell_type": "markdown",
   "id": "a2cd14cc",
   "metadata": {},
   "source": [
    "QUESTION 5"
   ]
  },
  {
   "cell_type": "code",
   "execution_count": 4,
   "id": "0eb5b1c0",
   "metadata": {},
   "outputs": [
    {
     "data": {
      "text/plain": [
       "0"
      ]
     },
     "execution_count": 4,
     "metadata": {},
     "output_type": "execute_result"
    }
   ],
   "source": [
    "def binary(number):\n",
    "    \n",
    "    if number == 0:\n",
    "        return 0\n",
    "                  \n",
    "    else:\n",
    "        return (number % 2 + 10 *binary(int(number // 2)))       #recursive function to give the binary number\n",
    "    \n",
    "  \n",
    "       \n",
    "        \n",
    "binary(1)\n",
    "binary(10)\n",
    "binary(0)"
   ]
  },
  {
   "cell_type": "markdown",
   "id": "add9f489",
   "metadata": {},
   "source": [
    "QUESTION 6"
   ]
  },
  {
   "cell_type": "code",
   "execution_count": 28,
   "id": "ba2df7e4",
   "metadata": {},
   "outputs": [
    {
     "name": "stdout",
     "output_type": "stream",
     "text": [
      "W3C Mission\n"
     ]
    }
   ],
   "source": [
    "from html.parser import HTMLParser\n",
    "\n",
    "class HeadingParser(HTMLParser):\n",
    "    inHeading = False\n",
    "    def handle_starttag(self, tag, attrs):\n",
    "        if tag == \"h1\":\n",
    "            self.inHeading = True\n",
    "    def handle_data(self, data):\n",
    "        if self.inHeading:\n",
    "            print(data)\n",
    "    def handle_endtag(self, tag):\n",
    "        if tag ==\"h1\":\n",
    "            self.inHeading = False\n",
    "\n",
    "hParser = HeadingParser()\n",
    "file = open(\"w3c.html\", \"r\")\n",
    "html = file.read()\n",
    "file.close()\n",
    "hParser.feed(html)\n"
   ]
  },
  {
   "cell_type": "markdown",
   "id": "a5285517",
   "metadata": {},
   "source": [
    "QUESTION 7"
   ]
  },
  {
   "cell_type": "code",
   "execution_count": null,
   "id": "66ca4a28",
   "metadata": {},
   "outputs": [],
   "source": [
    "from bs4 import BeautifulSoup\n",
    "import requests\n",
    "# lists\n",
    "urls = []\n",
    "# function created\n",
    "def scrape(site)\n",
    ":\n",
    " \n",
    "# getting the request from url\n",
    " \n",
    "r = requests.get(site)\n",
    " \n",
    "# converting the text\n",
    " \n",
    "s = BeautifulSoup(r.text, \"html.parser\")\n",
    " \n",
    "for i in s.find_all(\"a\")\n",
    ":\n",
    " \n",
    "href = i.attrs[\n",
    "'href'\n",
    "]\n",
    " \n",
    "if href.startswith(\"/\")\n",
    ":\n",
    " \n",
    "site = site + href\n",
    " \n",
    "if site not in urls:\n",
    " \n",
    "urls.append(site)\n",
    " \n",
    "print(site)\n",
    " \n",
    "# calling it self\n",
    " \n",
    "scrape(site)\n",
    "# main function\n",
    "if __name__ == \"\n",
    "__main__\n",
    "\":\n",
    " \n",
    "# website to be scrape\n",
    " \n",
    "site = \"http://github.com//\"\n",
    " \n",
    "# calling function\n",
    " \n",
    "scrape(site)"
   ]
  },
  {
   "cell_type": "markdown",
   "id": "2ddb9138",
   "metadata": {},
   "source": [
    "QUESTION 8"
   ]
  },
  {
   "cell_type": "code",
   "execution_count": null,
   "id": "44b35d5e",
   "metadata": {},
   "outputs": [],
   "source": [
    "# THIS CELL WILL CREATE THE TABLE NAMED AS 'whether' below\n",
    "CREATE TABLE whether\n",
    "(\n",
    "city varchar(15),\n",
    "countrt varchar(15),\n",
    "season varchar(15),\n",
    "temperature float,\n",
    "rainfall float\n",
    ");\n",
    "\n",
    "%%sql\n",
    "# THIS WILL INSERT THE DATAS IN TABLE...\n",
    "INSERT INTO whether VALUES('Mumbai', 'India', 'Winter', 24.8,5.9),\n",
    "('Mumbai', 'India', 'Spring', 28.4,16.2),\n",
    "('Mumbai', 'India', 'Summer', 27.9,1549.4),\n",
    "('Mumbai', 'India', 'Fall', 27.6,346.0),\n",
    "('London', 'United kingdom', 'Winter', 4.2,207.7),\n",
    "('London', 'United kingdom', 'Spring', 8.3,169.6),\n",
    "('London', 'United kingdom','Summer', 15.7,157.0),\n",
    "('London', 'United kingdom','Fall', 10.4,218.5),\n",
    "('Cairo', 'Egypt','Winter', 13.6,16.5),\n",
    "('Cairo', 'Egypt', 'Spring', 20.7,6.5);\n",
    "\n",
    "%%sql\n",
    "select * from whether;"
   ]
  },
  {
   "cell_type": "code",
   "execution_count": 1,
   "id": "243458f8",
   "metadata": {},
   "outputs": [
    {
     "name": "stdout",
     "output_type": "stream",
     "text": [
      "['THE', 'QUICK', 'BROWN', 'FOX', 'JUMPS', 'OVER', 'THE', 'LAZY', 'DOG']\n",
      "['the', 'quick', 'brown', 'fox', 'jumps', 'over', 'the', 'lazy', 'dog']\n",
      "[3, 5, 5, 3, 5, 4, 3, 4, 3]\n",
      "[['THE', 'the', 3], ['QUICK', 'quick', 5], ['BROWN', 'brown', 5], ['FOX', 'fox', 3], ['JUMPS', 'jumps', 5], ['OVER', 'over', 4], ['THE', 'the', 3], ['LAZY', 'lazy', 4], ['DOG', 'dog', 3]]\n",
      "['quick', 'brown', 'jumps', 'over', 'lazy']\n"
     ]
    }
   ],
   "source": [
    "#Question 9\n",
    "words = [\n",
    "'The', 'quick', 'brown', 'fox', 'jumps', 'over', 'the', 'lazy', 'dog'\n",
    "]\n",
    "# Printing all words upper case\n",
    "print(\n",
    "[x.upper() for x in words]\n",
    ")\n",
    "# Printing all words lower case\n",
    "print(\n",
    "[x.lower() for x in words]\n",
    ")\n",
    "# Printing length of each word\n",
    "print(\n",
    "[len(x) for x in words]\n",
    ")\n",
    "# Printing the list containing a list for every word of list words,\n",
    "# where each list contains the word in uppercase and lowercase and the length of the word\n",
    "print(\n",
    "[\n",
    "[x.upper(), x.lower(), len(x)\n",
    "] for x in words]\n",
    ")\n",
    "# Printing the list of words in list words containing 4 or more characters\n",
    "print(\n",
    "[x for x in words if len(x)>=4]\n",
    ")\n"
   ]
  },
  {
   "cell_type": "code",
   "execution_count": null,
   "id": "c4cec060",
   "metadata": {},
   "outputs": [],
   "source": []
  }
 ],
 "metadata": {
  "kernelspec": {
   "display_name": "Python 3 (ipykernel)",
   "language": "python",
   "name": "python3"
  },
  "language_info": {
   "codemirror_mode": {
    "name": "ipython",
    "version": 3
   },
   "file_extension": ".py",
   "mimetype": "text/x-python",
   "name": "python",
   "nbconvert_exporter": "python",
   "pygments_lexer": "ipython3",
   "version": "3.11.0"
  }
 },
 "nbformat": 4,
 "nbformat_minor": 5
}
